{
 "cells": [
  {
   "cell_type": "markdown",
   "id": "c2722c1d-29d0-402c-b893-b8b657fd9342",
   "metadata": {
    "tags": []
   },
   "source": [
    "# Run time analysis of Gauss-Siedel and Jacobi methods for larger systems\n",
    "The goal of this analysis is to address the runtimes for both Jacobi and Gauss Siedel as we scale the size of the model system.\n",
    "## Methodology\n",
    "Since we are attempting to find our solution iteratively, we start with an initial guess and iterate until the solution is within tolerance. Thanks to convergence theorems, we expect the sequence to approach the true solution over for sufficient iterations. Runtime of each method is proportional to the number of iterations needed to run by each algorithm. If you start with a guess that is close to the final solution, the number of iterations necessary to reach your tolerance, will decrease (and increase if your intial guess is far away). Thus, runtime depends on the initial guess. \n",
    "\n",
    "But, the purpose of this analysis is to see how the size of the system affects duration of the algorithm. So, we will fix our initial guess to remove this effect.\n",
    "### Constraining the Initial Guess\n",
    "Since the system of interest represents the temperature distribution of the plate at the equilibrium state, the we expect that the average value of the solution vector to be remain roughly unchanged as the system grows. It is possible that the average value may deviate slightly as the system scales, but this will be advantageous for our use case.\n",
    "\n",
    "We will use the average value of the solution vector for a small system and use that to modify the initial guess for each of the following systems. Effectively, we get an initial guess vector close to the final solution, but different enough that the system will still iterate. Then, the impact of the guess on runtime will be quite small making the analysis a better measure of how the scale of the system affects the duration of the runs.\n",
    "\n",
    "We start with a small system:"
   ]
  },
  {
   "cell_type": "code",
   "execution_count": 19,
   "id": "8d3c7b2a-25a7-4ef1-aa50-91a8b8f63d13",
   "metadata": {
    "tags": []
   },
   "outputs": [],
   "source": [
    "import HeatModel\n",
    "import numpy as np\n",
    "import timeit\n",
    "import matplotlib.pyplot as plt"
   ]
  },
  {
   "cell_type": "code",
   "execution_count": 11,
   "id": "c6039349-f1a6-428a-9be4-c272e41e46e6",
   "metadata": {
    "tags": []
   },
   "outputs": [
    {
     "data": {
      "text/plain": [
       "49.99999976019476"
      ]
     },
     "execution_count": 11,
     "metadata": {},
     "output_type": "execute_result"
    }
   ],
   "source": [
    "initialGuessSystem = HeatModel.HeatModel(5)\n",
    "\n",
    "solutionTuple = initialGuessSystem.solveJacobi(nIter=500,tol=1e-9)\n",
    "\n",
    "initialGuess = np.average(solutionTuple[0])\n",
    "initialGuess"
   ]
  },
  {
   "cell_type": "markdown",
   "id": "b2439f3b-bb86-458f-b707-99fd6e6b0832",
   "metadata": {
    "tags": []
   },
   "source": [
    "### Setting up the analysis\n",
    "Now, with our initial guess constrained, we will: define a set of system sizes to collect our data, add a list to store the elapsed time for plotting later, loop through the system sizes, and store the results."
   ]
  },
  {
   "cell_type": "code",
   "execution_count": 7,
   "id": "0de63d70-b1bf-47ce-b97b-7af663a46021",
   "metadata": {
    "jupyter": {
     "source_hidden": true
    },
    "tags": []
   },
   "outputs": [],
   "source": [
    "size = 4\n",
    "\n",
    "maxIter = 40000\n",
    "\n",
    "TOL = 1e-5\n",
    "\n",
    "testSystem = HeatModel.HeatModel(size)\n",
    "    \n",
    "startTime = timeit.default_timer()\n",
    "    \n",
    "solution, iters, tols = testSystem.solveJacobi(maxIter,TOL,x0=initialGuess)\n",
    "    \n",
    "elapsedTime = timeit.default_timer() - startTime\n",
    "\n",
    "with open(\"dataFile.txt\",'a') as outFile:\n",
    "\n",
    "    outFile.write(str(elapsedTime))\n",
    "    \n",
    "    outFile.write(\",\" + str(size)+ \",\" +str(iters)+ \",\" +str(tols))\n",
    "    \n",
    "    outFile.write(\"\\n\")\n",
    "    \n"
   ]
  },
  {
   "cell_type": "code",
   "execution_count": 8,
   "id": "d5b68075-feb5-450a-809c-e23cdb66d6d5",
   "metadata": {
    "tags": []
   },
   "outputs": [
    {
     "ename": "KeyboardInterrupt",
     "evalue": "",
     "output_type": "error",
     "traceback": [
      "\u001b[0;31m---------------------------------------------------------------------------\u001b[0m",
      "\u001b[0;31mKeyboardInterrupt\u001b[0m                         Traceback (most recent call last)",
      "Cell \u001b[0;32mIn[8], line 11\u001b[0m\n\u001b[1;32m      7\u001b[0m testSystem \u001b[38;5;241m=\u001b[39m HeatModel\u001b[38;5;241m.\u001b[39mHeatModel(size)\n\u001b[1;32m      9\u001b[0m startTime \u001b[38;5;241m=\u001b[39m timeit\u001b[38;5;241m.\u001b[39mdefault_timer()\n\u001b[0;32m---> 11\u001b[0m solution, iters, tols \u001b[38;5;241m=\u001b[39m \u001b[43mtestSystem\u001b[49m\u001b[38;5;241;43m.\u001b[39;49m\u001b[43mGaussSeidel\u001b[49m\u001b[43m(\u001b[49m\u001b[43mmaxIter\u001b[49m\u001b[43m,\u001b[49m\u001b[43mTOL\u001b[49m\u001b[43m,\u001b[49m\u001b[43mx0\u001b[49m\u001b[38;5;241;43m=\u001b[39;49m\u001b[43minitialGuess\u001b[49m\u001b[43m)\u001b[49m\n\u001b[1;32m     13\u001b[0m elapsedTime \u001b[38;5;241m=\u001b[39m timeit\u001b[38;5;241m.\u001b[39mdefault_timer() \u001b[38;5;241m-\u001b[39m startTime\n\u001b[1;32m     15\u001b[0m \u001b[38;5;28;01mwith\u001b[39;00m \u001b[38;5;28mopen\u001b[39m(\u001b[38;5;124m\"\u001b[39m\u001b[38;5;124mdataFile.txt\u001b[39m\u001b[38;5;124m\"\u001b[39m,\u001b[38;5;124m'\u001b[39m\u001b[38;5;124ma\u001b[39m\u001b[38;5;124m'\u001b[39m) \u001b[38;5;28;01mas\u001b[39;00m outFile:\n",
      "File \u001b[0;32m~/Documents/GitHub/MAS4107Opt1/HeatModel.py:258\u001b[0m, in \u001b[0;36mHeatModel.GaussSeidel\u001b[0;34m(self, nIter, tol, stop, plot, x0)\u001b[0m\n\u001b[1;32m    255\u001b[0m     Ajx \u001b[38;5;241m=\u001b[39m A\u001b[38;5;241m.\u001b[39mdata[rowstart:rowend] \u001b[38;5;241m@\u001b[39m x[A\u001b[38;5;241m.\u001b[39mindices[rowstart:rowend]]\n\u001b[1;32m    257\u001b[0m     \u001b[38;5;66;03m# Generating each element for x_k+1\u001b[39;00m\n\u001b[0;32m--> 258\u001b[0m     x1[j] \u001b[38;5;241m=\u001b[39m x[j] \u001b[38;5;241m+\u001b[39m ((b[j] \u001b[38;5;241m-\u001b[39m Ajx) \u001b[38;5;241m/\u001b[39m diags[j])\n\u001b[1;32m    260\u001b[0m \u001b[38;5;66;03m# Calculating the difference between the prior and current approximation\u001b[39;00m\n\u001b[1;32m    261\u001b[0m x_x1 \u001b[38;5;241m=\u001b[39m x1 \u001b[38;5;241m-\u001b[39m x\n",
      "\u001b[0;31mKeyboardInterrupt\u001b[0m: "
     ]
    }
   ],
   "source": [
    "size = 1000\n",
    "\n",
    "maxIter = 40000\n",
    "\n",
    "TOL = 1e-5\n",
    "\n",
    "testSystem = HeatModel.HeatModel(size)\n",
    "    \n",
    "startTime = timeit.default_timer()\n",
    "    \n",
    "solution, iters, tols = testSystem.GaussSeidel(maxIter,TOL,x0=initialGuess)\n",
    "    \n",
    "elapsedTime = timeit.default_timer() - startTime\n",
    "\n",
    "with open(\"dataFile.txt\",'a') as outFile:\n",
    "\n",
    "    outFile.write(str(elapsedTime))\n",
    "    \n",
    "    outFile.write(\",\" + str(size)+ \",\" +str(iters)+ \",\" +str(tols)+ \",GS\")\n",
    "    \n",
    "    outFile.write(\"\\n\")\n",
    "    "
   ]
  },
  {
   "cell_type": "markdown",
   "id": "3e57fbca",
   "metadata": {},
   "source": [
    "I have been having trouble running the GS method for a system of size 1000. We know that the method is largely dependent on the initial guess. Our initial analysis indicates that the Jacobi method is running in fewer iterations. I am going to run the same technique where I find a solution and average the value, but I will start with an initial guess coming from the jacobi method for the system of the same size.  "
   ]
  },
  {
   "cell_type": "code",
   "execution_count": 12,
   "id": "1705b1fc",
   "metadata": {},
   "outputs": [],
   "source": [
    "size = 100\n",
    "\n",
    "maxIter = 40000\n",
    "\n",
    "TOL = 1e-5\n",
    "\n",
    "testSystem = HeatModel.HeatModel(size)\n",
    "\n",
    "#feederSolution = testSystem.solveJacobi(maxIter,TOL, x0=initialGuess)\n",
    "\n",
    "#initialGuess = np.mean(feederSolution[0])\n",
    "    \n",
    "startTime = timeit.default_timer()\n",
    "    \n",
    "solution, iters, tols = testSystem.solveJacobi(maxIter,TOL,x0=initialGuess)\n",
    "    \n",
    "elapsedTime = timeit.default_timer() - startTime\n",
    "\n",
    "with open(\"dataFile.txt\",'a') as outFile:\n",
    "\n",
    "    outFile.write(str(elapsedTime))\n",
    "    \n",
    "    outFile.write(\",\" + str(size)+ \",\" +str(iters))\n",
    "    \n",
    "    outFile.write(\"\\n\")"
   ]
  },
  {
   "cell_type": "markdown",
   "id": "d9207d81",
   "metadata": {},
   "source": [
    "Now that our test are done, I need to do some processing to pull relevant data from the file data file"
   ]
  },
  {
   "cell_type": "code",
   "execution_count": 33,
   "id": "3cc96837",
   "metadata": {},
   "outputs": [
    {
     "name": "stdout",
     "output_type": "stream",
     "text": [
      "[0.00474162504542619, 0.21929783304221928, 154.56196058297064] [0.05082137498538941, 81.19101574993692, 55956.84321958409]\n"
     ]
    },
    {
     "data": {
      "image/png": "[encoded data removed]",
      "text/plain": [
       "<Figure size 640x480 with 1 Axes>"
      ]
     },
     "metadata": {},
     "output_type": "display_data"
    }
   ],
   "source": [
    "jacobiData = []\n",
    "guassSiedelData = []\n",
    "\n",
    "with open(\"dataFile.txt\",'r') as inFile:\n",
    "    \n",
    "    for line in inFile.readlines():\n",
    "        if 'GS' not in line:\n",
    "            duration,size,convergenceIters = line.split(',')\n",
    "            jacobiData.append((float(duration),int(size),int(convergenceIters)))\n",
    "\n",
    "        else:\n",
    "            duration, size, convergenceIters, method = line.split(',')\n",
    "            guassSiedelData.append((float(duration),int(size),int(convergenceIters)))\n",
    "\n",
    "#print(jacobiData,guassSiedelData)\n",
    "jacobiTimes = [y[0] for y in jacobiData]\n",
    "jacobiSizes = [x[1] for x in jacobiData]\n",
    "jacobiIters = [z[2] for z in jacobiData]\n",
    "\n",
    "gsTimes = [y[0] for y in guassSiedelData]\n",
    "gsIters = [z[2] for z in guassSiedelData]\n",
    "\n",
    "print(jacobiTimes,gsTimes)\n",
    "\n",
    "#bar chart\n",
    "# Set up bar positions\n",
    "x = np.arange(len(jacobiSizes))  # Positions for groups\n",
    "width = 0.35  # Width of each bar\n",
    "\n",
    "# Create bar chart\n",
    "plt.bar(x - width/2, jacobiTimes, width, label='Jacobi Times')\n",
    "plt.bar(x + width/2, gsTimes, width, label='Gauss-Seidel Times')\n",
    "\n",
    "\n",
    "plt.yscale('log')\n",
    "\n",
    "\n",
    "plt.xlabel('Problem Size')\n",
    "plt.ylabel('Computation Time (log scale)')\n",
    "plt.title('Comparison of Jacobi and Gauss-Seidel Times by Size')\n",
    "plt.xticks(x, jacobiSizes)  # Replace x-axis ticks with size labels\n",
    "plt.legend()\n",
    "\n",
    "# Show the plot\n",
    "plt.grid(axis='y', linestyle='--', alpha=0.7)\n",
    "plt.tight_layout()\n",
    "plt.show()\n",
    "\n",
    "\n",
    "\n"
   ]
  }
 ],
 "metadata": {
  "kernelspec": {
   "display_name": "base",
   "language": "python",
   "name": "python3"
  },
  "language_info": {
   "codemirror_mode": {
    "name": "ipython",
    "version": 3
   },
   "file_extension": ".py",
   "mimetype": "text/x-python",
   "name": "python",
   "nbconvert_exporter": "python",
   "pygments_lexer": "ipython3",
   "version": "3.11.10"
  }
 },
 "nbformat": 4,
 "nbformat_minor": 5
}
