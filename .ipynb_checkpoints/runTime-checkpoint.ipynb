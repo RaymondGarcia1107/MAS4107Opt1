{
 "cells": [
  {
   "cell_type": "markdown",
   "id": "c2722c1d-29d0-402c-b893-b8b657fd9342",
   "metadata": {
    "tags": []
   },
   "source": [
    "# Run time analysis of Gauss-Siedel and Jacobi methods for larger systems\n",
    "The goal of this analysis is to address the runtimes for both Jacobi and Gauss Siedel as we scale the size of the model system.\n",
    "## Methodology\n",
    "Since we are attempting to find our solution iteratively, we start with an initial guess and iterate until the solution is within tolerance. Thanks to convergence theorems, we expect the sequence to approach the true solution over for sufficient iterations. Runtime of each method is proportional to the number of iterations needed to run by each algorithm. If you start with a guess that is close to the final solution, the number of iterations necessary to reach your tolerance, will decrease (and increase if your intial guess is far away). Thus, runtime depends on the initial guess. \n",
    "\n",
    "But, the purpose of this analysis is to see how the size of the system affects duration of the algorithm. So, we will fix our initial guess to remove this effect.\n",
    "### Constraining the Initial Guess\n",
    "Since the system of interest represents the temperature distribution of the plate at the equilibrium state, the we expect that the average value of the solution vector to be remain roughly unchanged as the system grows. It is possible that the average value may deviate slightly as the system scales, but this will be advantageous for our use case.\n",
    "\n",
    "We will use the average value of the solution vector for a small system and use that to modify the initial guess for each of the following systems. Effectively, we get an initial guess vector close to the final solution, but different enough that the system will still iterate. Then, the impact of the guess on runtime will be quite small making the analysis a better measure of how the scale of the system affects the duration of the runs.\n",
    "\n",
    "We start with a small system:"
   ]
  },
  {
   "cell_type": "code",
   "execution_count": 3,
   "id": "8d3c7b2a-25a7-4ef1-aa50-91a8b8f63d13",
   "metadata": {
    "tags": []
   },
   "outputs": [],
   "source": [
    "import HeatModel\n",
    "import numpy as np\n",
    "import timeit"
   ]
  },
  {
   "cell_type": "code",
   "execution_count": 4,
   "id": "c6039349-f1a6-428a-9be4-c272e41e46e6",
   "metadata": {
    "tags": []
   },
   "outputs": [
    {
     "data": {
      "text/plain": [
       "49.99999976019476"
      ]
     },
     "execution_count": 4,
     "metadata": {},
     "output_type": "execute_result"
    }
   ],
   "source": [
    "initialGuessSystem = HeatModel.HeatModel(5)\n",
    "\n",
    "solutionTuple = initialGuessSystem.solveJacobi(nIter=500,tol=1e-9)\n",
    "\n",
    "initialGuess = np.average(solutionTuple[0])\n",
    "initialGuess"
   ]
  },
  {
   "cell_type": "markdown",
   "id": "b2439f3b-bb86-458f-b707-99fd6e6b0832",
   "metadata": {
    "tags": []
   },
   "source": [
    "### Setting up the analysis\n",
    "Now, with our initial guess constrained, we will: define a set of system sizes to collect our data, add a list to store the elapsed time for plotting later, loop through the system sizes, and store the results."
   ]
  },
  {
   "cell_type": "code",
   "execution_count": null,
   "id": "0de63d70-b1bf-47ce-b97b-7af663a46021",
   "metadata": {
    "tags": []
   },
   "outputs": [],
   "source": [
    "testSystem = HeatModel.HeatModel(3000)\n",
    "    \n",
    "startTime = timeit.default_timer()\n",
    "    \n",
    "solution, iters, tols = testSystem.solveJacobi(maxIter,TOL,x0=initialGuess)\n",
    "    \n",
    "elapsedTime = timeit.default_timer() - startTime\n",
    "\n",
    "elapsedTime"
   ]
  },
  {
   "cell_type": "code",
   "execution_count": 1,
   "id": "f643bf30-a8ec-4cac-9b73-1a0e997427a4",
   "metadata": {
    "collapsed": true,
    "jupyter": {
     "outputs_hidden": true,
     "source_hidden": true
    },
    "tags": []
   },
   "outputs": [
    {
     "ename": "TypeError",
     "evalue": "'int' object is not iterable",
     "output_type": "error",
     "traceback": [
      "\u001b[0;31m---------------------------------------------------------------------------\u001b[0m",
      "\u001b[0;31mTypeError\u001b[0m                                 Traceback (most recent call last)",
      "Cell \u001b[0;32mIn[1], line 11\u001b[0m\n\u001b[1;32m      7\u001b[0m maxIter \u001b[38;5;241m=\u001b[39m \u001b[38;5;241m1000\u001b[39m\n\u001b[1;32m      9\u001b[0m TOL \u001b[38;5;241m=\u001b[39m \u001b[38;5;241m1e-5\u001b[39m\n\u001b[0;32m---> 11\u001b[0m \u001b[38;5;28;43;01mfor\u001b[39;49;00m\u001b[43m \u001b[49m\u001b[43msize\u001b[49m\u001b[43m \u001b[49m\u001b[38;5;129;43;01min\u001b[39;49;00m\u001b[43m \u001b[49m\u001b[43msystemSizes\u001b[49m\u001b[43m:\u001b[49m\n\u001b[1;32m     13\u001b[0m \u001b[43m    \u001b[49m\u001b[43mtestSystem\u001b[49m\u001b[43m \u001b[49m\u001b[38;5;241;43m=\u001b[39;49m\u001b[43m \u001b[49m\u001b[43mHeatModel\u001b[49m\u001b[38;5;241;43m.\u001b[39;49m\u001b[43mHeatModel\u001b[49m\u001b[43m(\u001b[49m\u001b[43msize\u001b[49m\u001b[43m)\u001b[49m\n\u001b[1;32m     15\u001b[0m \u001b[43m    \u001b[49m\u001b[43mstartTime\u001b[49m\u001b[43m \u001b[49m\u001b[38;5;241;43m=\u001b[39;49m\u001b[43m \u001b[49m\u001b[43mtimeit\u001b[49m\u001b[38;5;241;43m.\u001b[39;49m\u001b[43mdefault_timer\u001b[49m\u001b[43m(\u001b[49m\u001b[43m)\u001b[49m\n",
      "\u001b[0;31mTypeError\u001b[0m: 'int' object is not iterable"
     ]
    }
   ],
   "source": [
    "systemSizes = [10,100,1000,10000]\n",
    "\n",
    "jacobiRunTimes = []\n",
    "\n",
    "GaussSiedelRunTimes = []\n",
    "\n",
    "maxIter = 1000\n",
    "\n",
    "TOL = 1e-5\n",
    "\n",
    "for size in systemSizes:\n",
    "    \n",
    "    testSystem = HeatModel.HeatModel(size)\n",
    "    \n",
    "    startTime = timeit.default_timer()\n",
    "    \n",
    "    solution, iters, tols = testSystem.solveJacobi(maxIter,TOL,x0=initialGuess)\n",
    "    \n",
    "    elapsedTime = timeit.default_timer() - startTime\n",
    "    \n",
    "    jacobiRunTimes.append(elapsedTime)\n",
    "    \n",
    "jacobiRunTimes"
   ]
  },
  {
   "cell_type": "code",
   "execution_count": null,
   "id": "d5b68075-feb5-450a-809c-e23cdb66d6d5",
   "metadata": {},
   "outputs": [],
   "source": []
  }
 ],
 "metadata": {
  "kernelspec": {
   "display_name": "Python 3 (ipykernel)",
   "language": "python",
   "name": "python3"
  },
  "language_info": {
   "codemirror_mode": {
    "name": "ipython",
    "version": 3
   },
   "file_extension": ".py",
   "mimetype": "text/x-python",
   "name": "python",
   "nbconvert_exporter": "python",
   "pygments_lexer": "ipython3",
   "version": "3.11.10"
  }
 },
 "nbformat": 4,
 "nbformat_minor": 5
}
