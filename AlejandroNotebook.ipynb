{
 "cells": [
  {
   "cell_type": "code",
   "id": "initial_id",
   "metadata": {
    "collapsed": true,
    "ExecuteTime": {
     "end_time": "2024-11-22T21:17:58.199975Z",
     "start_time": "2024-11-22T21:17:56.109372Z"
    }
   },
   "source": "from HeatModel import *",
   "outputs": [],
   "execution_count": 1
  },
  {
   "metadata": {
    "ExecuteTime": {
     "end_time": "2024-11-22T21:39:47.578725Z",
     "start_time": "2024-11-22T21:39:47.572756Z"
    }
   },
   "cell_type": "code",
   "source": [
    "n = 50\n",
    "maxIterations = 10000\n",
    "distributionResults = HeatModel(n)"
   ],
   "id": "33e69b9f5f3fc24d",
   "outputs": [],
   "execution_count": 24
  },
  {
   "metadata": {
    "ExecuteTime": {
     "end_time": "2024-11-22T21:39:46.585731Z",
     "start_time": "2024-11-22T21:39:46.241319Z"
    }
   },
   "cell_type": "code",
   "source": "solution, count, tols, errors = distributionResults.solveJacobi(maxiter = maxIterations)",
   "id": "40ab4051595cf0d2",
   "outputs": [],
   "execution_count": 23
  }
 ],
 "metadata": {
  "kernelspec": {
   "display_name": "Python 3",
   "language": "python",
   "name": "python3"
  },
  "language_info": {
   "codemirror_mode": {
    "name": "ipython",
    "version": 2
   },
   "file_extension": ".py",
   "mimetype": "text/x-python",
   "name": "python",
   "nbconvert_exporter": "python",
   "pygments_lexer": "ipython2",
   "version": "2.7.6"
  }
 },
 "nbformat": 4,
 "nbformat_minor": 5
}
